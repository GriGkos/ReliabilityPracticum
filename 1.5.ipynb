{
 "cells": [
  {
   "cell_type": "code",
   "execution_count": 10,
   "metadata": {},
   "outputs": [],
   "source": [
    "import sympy as sp\n",
    "import numpy as np\n",
    "from sympy.plotting import plot\n",
    "from matplotlib import style\n",
    "import matplotlib.pyplot as plt\n",
    "style.use('seaborn-v0_8-whitegrid')\n",
    "sp.init_printing(use_unicode = False, wrap_line = False, no_global = True)\n",
    "%matplotlib inline"
   ]
  },
  {
   "cell_type": "markdown",
   "metadata": {},
   "source": [
    "### Задание 1.5. Иерархические схемы ###"
   ]
  },
  {
   "cell_type": "markdown",
   "metadata": {},
   "source": [
    "#### *1. Докажите теорему 5.3 о сумме известного количества слагаемых.* ####"
   ]
  },
  {
   "cell_type": "markdown",
   "metadata": {},
   "source": [
    "**Теорема 5.3.** *Производящая функция суммы независимых с.в. равна произведению производящих функций слагаемых, т.е. если с.в. $\\xi_1, \\xi_2, ..., \\xi_n$ независимы и $\\xi_{\\Sigma} = \\sum\\limits_{i=1}^{n} \\xi_i$, то*\n",
    "$$ \\varphi_{\\Sigma}(z) = \\prod_{i=1}^{n} \\varphi_i(z), $$\n",
    "*где $\\varphi_i(z)$ - п.ф. $\\xi_i$, a $\\varphi_{\\Sigma}(z)$ - п.ф. $\\xi_{\\Sigma}$*\n",
    "\n",
    "**Доказательство.**\n",
    "По определению производящей функции $ \\varphi(z) = M z^{\\xi} $:\n",
    "\n",
    "$$ \\varphi_{\\Sigma}(z) = M z^{\\xi_{\\Sigma}} = M z^{\\xi_1 + \\xi_2 + ... + \\xi_n}  = M(z^{\\xi_1} \\cdot z^{\\xi_2} \\cdot ... \\cdot z^{\\xi_n})$$\n",
    "\n",
    "так как с.в. $\\xi_1, \\xi_2, ..., \\xi_n$ независимы, то\n",
    "\n",
    "$$ M(z^{\\xi_1} \\cdot z^{\\xi_2} \\cdot ... \\cdot z^{\\xi_n}) = Mz^{\\xi_1} \\cdot Mz^{\\xi_2} \\cdot ... \\cdot Mz^{\\xi_n} = \\varphi_1(z) \\cdot \\varphi_2(z) \\cdot ... \\cdot \\varphi_n(z) = \\prod_{i=1}^{n} \\varphi_i(z)$$\n"
   ]
  },
  {
   "cell_type": "markdown",
   "metadata": {},
   "source": [
    "#### *2. Крупный потребитель (промышленный район) снабжается тремя двухниточными газопроводами (коридорами), подходящими к нему с разных сторон. Пропускная способность одного из коридоров в 2 раза больше пропускной способности каждого из двух других. При отказе нитки пропускная способность коридора уменьшается на 25%. При отказе двух ниток одного коридора подача газа по нему прерывается. Нитки отказывают независимо. Коэффициент готовности каждой нитки равен 0.95. Отказом системы газоснабжения считается уменьшение подачи не менее, чем на 15%. Найдите коэффициент готовности системы, построив производящую функцию.* ####"
   ]
  },
  {
   "cell_type": "markdown",
   "metadata": {},
   "source": [
    "$$ \\xi_i = \n",
    "\\begin{cases} \n",
    "    0, & \\text{с вероятностью } K_i^{2} \\text{ (если обе нитки работают),} \\\\ \n",
    "    0.25a_i, & \\text{с вероятностью } 2K_i(1-K_i) \\text{ (если одна нитка отказала),} \\\\ \n",
    "    a_i, & \\text{с вероятностью } (1-K_i)^{2} \\text{ (если обе нитки отказали).}\n",
    "\\end{cases} $$\n",
    "\n",
    "$$ a_1 = a\\\\\n",
    "a_2 = a\\\\\n",
    "a_3 = 2a $$\n",
    "\n",
    "$$ K_i = 0.95$$\n",
    "\n",
    "$$\\varphi_i (z) = K_i^{2} + 2K_i(1-K_i)z^{0.25a_i} + (1-K_i)^{2}z^{a_i} $$\n",
    "\n",
    "Отказы трубопроводов независимы, поэтому: $$\\varphi_{\\Sigma} (z)  = \\displaystyle\\prod_{i=1}^{3} \\varphi_i(z)$$\n",
    "\n",
    "Общая пропускная способность при нормальной работе: $a_{total} = a + a + 2a = 4a$. \n",
    "\n",
    "15% от $a_{total}$: $0.15 \\cdot 4a = 0.6a$ "
   ]
  },
  {
   "cell_type": "code",
   "execution_count": 3,
   "metadata": {},
   "outputs": [
    {
     "data": {
      "image/png": "[encoded data removed]",
      "text/latex": [
       "$\\displaystyle \\varphi_{\\Sigma}{\\left(z \\right)} = \\left(K_{i}^{2} + 2 K_{i} z^{0.25 a} \\left(1 - K_{i}\\right) + z^{a} \\left(1 - K_{i}\\right)^{2}\\right)^{2} \\left(K_{i}^{2} + 2 K_{i} z^{0.5 a} \\left(1 - K_{i}\\right) + z^{2 a} \\left(1 - K_{i}\\right)^{2}\\right)$"
      ],
      "text/plain": [
       "                                                                  2                                                  \n",
       "                  /   2          0.25*a              a          2\\  /   2          0.5*a              2*a          2\\\n",
       "varphi_Sigma(z) = \\K_i  + 2*K_i*z      *(1 - K_i) + z *(1 - K_i) / *\\K_i  + 2*K_i*z     *(1 - K_i) + z   *(1 - K_i) /"
      ]
     },
     "execution_count": 3,
     "metadata": {},
     "output_type": "execute_result"
    }
   ],
   "source": [
    "z  = sp.Symbol('z')\n",
    "a = sp.Symbol('a')\n",
    "K_i = sp.Symbol('K_i')\n",
    "phi = sp.Function('varphi_Sigma')(z)\n",
    "phi_z = sp.Eq(phi, (sp.Pow(K_i, 2) +2*K_i*(1-K_i)*sp.Pow(z, 0.25*a) + sp.Pow((1-K_i), 2)*sp.Pow(z, a))**2 * (sp.Pow(K_i, 2) +2*K_i*(1-K_i)*sp.Pow(z, 0.5*a) + sp.Pow((1-K_i), 2)*sp.Pow(z, 2*a)))\n",
    "phi_z"
   ]
  },
  {
   "cell_type": "code",
   "execution_count": 4,
   "metadata": {},
   "outputs": [
    {
     "data": {
      "image/png": "[encoded data removed]",
      "text/latex": [
       "$\\displaystyle 0.81450625 \\left(0.105263157894737 z^{0.25 a} + 0.00277008310249308 z^{a} + 1\\right)^{2} \\left(0.0950000000000001 z^{0.5 a} + 0.0025 z^{2 a} + 0.9025\\right)$"
      ],
      "text/plain": [
       "                                                                   2                                                   \n",
       "           /                   0.25*a                        a    \\  /                    0.5*a           2*a         \\\n",
       "0.81450625*\\0.105263157894737*z       + 0.00277008310249308*z  + 1/ *\\0.0950000000000001*z      + 0.0025*z    + 0.9025/"
      ]
     },
     "execution_count": 4,
     "metadata": {},
     "output_type": "execute_result"
    }
   ],
   "source": [
    "phi_z.rhs.subs({K_i: 0.95})"
   ]
  },
  {
   "cell_type": "code",
   "execution_count": 5,
   "metadata": {},
   "outputs": [
    {
     "data": {
      "image/png": "[encoded data removed]",
      "text/latex": [
       "$\\displaystyle 0.1547561875 z^{0.25 a} + 0.0855231562500001 z^{0.5 a} + 0.016290125 z^{0.75 a} + 1.56250000000001 \\cdot 10^{-8} z^{4 a} + 1.128125 \\cdot 10^{-5} z^{3 a} + 0.00204190625 z^{2 a} + 0.00407253125000001 z^{a} + 0.000857375000000002 z^{1.0 a} + 0.000428687500000001 z^{1.25 a} + 0.000428687500000001 z^{1.5 a} + 4.51250000000002 \\cdot 10^{-5} z^{1.75 a} + 0.000428687500000001 z^{2.25 a} + 2.31562500000001 \\cdot 10^{-5} z^{2.5 a} + 1.18750000000001 \\cdot 10^{-6} z^{3.25 a} + 0.735091890625$"
      ],
      "text/plain": [
       "              0.25*a                       0.5*a                0.75*a                        4*a                3*a                  2*a                        a                         1.0*a                         1.25*a                         1.5*a                        1.75*a                         2.25*a                        2.5*a                        3.25*a                 \n",
       "0.1547561875*z       + 0.0855231562500001*z      + 0.016290125*z       + 1.56250000000001e-8*z    + 1.128125e-5*z    + 0.00204190625*z    + 0.00407253125000001*z  + 0.000857375000000002*z      + 0.000428687500000001*z       + 0.000428687500000001*z      + 4.51250000000002e-5*z       + 0.000428687500000001*z       + 2.31562500000001e-5*z      + 1.18750000000001e-6*z       + 0.735091890625"
      ]
     },
     "execution_count": 5,
     "metadata": {},
     "output_type": "execute_result"
    }
   ],
   "source": [
    "expanded_expr = (phi_z.rhs.subs({K_i: 0.95})).expand()\n",
    "expanded_expr"
   ]
  },
  {
   "cell_type": "code",
   "execution_count": 6,
   "metadata": {},
   "outputs": [
    {
     "data": {
      "image/png": "[encoded data removed]",
      "text/latex": [
       "$\\displaystyle \\left\\{ 1 : 0.735091890625, \\  z^{0.25 a} : 0.1547561875, \\  z^{0.5 a} : 0.0855231562500001, \\  z^{0.75 a} : 0.016290125, \\  z^{1.0 a} : 0.000857375000000002, \\  z^{a} : 0.00407253125000001, \\  z^{1.25 a} : 0.000428687500000001, \\  z^{1.5 a} : 0.000428687500000001, \\  z^{1.75 a} : 4.51250000000002 \\cdot 10^{-5}, \\  z^{2 a} : 0.00204190625, \\  z^{2.25 a} : 0.000428687500000001, \\  z^{2.5 a} : 2.31562500000001 \\cdot 10^{-5}, \\  z^{3 a} : 1.128125 \\cdot 10^{-5}, \\  z^{3.25 a} : 1.18750000000001 \\cdot 10^{-6}, \\  z^{4 a} : 1.56250000000001 \\cdot 10^{-8}\\right\\}$"
      ],
      "text/plain": [
       "defaultdict(int,\n",
       "                                 0.25*a                 0.5*a                       0.75*a                1.0*a                         a                        1.25*a                         1.5*a                         1.75*a                        2*a                  2.25*a                         2.5*a                        3*a                3.25*a                        4*a                      \n",
       "{1: 0.735091890625, z      : 0.1547561875, z     : 0.0855231562500001, z      : 0.016290125, z     : 0.000857375000000002, z : 0.00407253125000001, z      : 0.000428687500000001, z     : 0.000428687500000001, z      : 4.51250000000002e-5, z   : 0.00204190625, z      : 0.000428687500000001, z     : 2.31562500000001e-5, z   : 1.128125e-5, z      : 1.18750000000001e-6, z   : 1.56250000000001e-8})"
      ]
     },
     "execution_count": 6,
     "metadata": {},
     "output_type": "execute_result"
    }
   ],
   "source": [
    "coeff_dict = expanded_expr.as_coefficients_dict()\n",
    "coeff_dict"
   ]
  },
  {
   "cell_type": "code",
   "execution_count": 7,
   "metadata": {},
   "outputs": [
    {
     "data": {
      "image/png": "[encoded data removed]",
      "text/latex": [
       "$\\displaystyle 0.975371234375$"
      ],
      "text/plain": [
       "0.975371234375000"
      ]
     },
     "execution_count": 7,
     "metadata": {},
     "output_type": "execute_result"
    }
   ],
   "source": [
    "K = coeff_dict[1]+coeff_dict[z**(0.25*a)]+coeff_dict[z**(0.5*a)]\n",
    "K"
   ]
  },
  {
   "cell_type": "markdown",
   "metadata": {},
   "source": [
    "#### *3. Докажите теорему 5.2 о математическом ожидании и найдите среднюю подачу газа для предыдущей задачи.* ####"
   ]
  },
  {
   "cell_type": "markdown",
   "metadata": {},
   "source": [
    "**Теорема 5.2.** *Математическое ожидание дискретной с.в. вычисляется через ее п.ф. как*\n",
    "\n",
    "$$M\\xi = \\frac{d\\varphi}{dz}$$\n",
    "\n",
    "**Доказательство.**\n",
    "\n",
    "Продифференцируем $\\varphi (z) = \\displaystyle\\sum_{k=0}^{\\infty} p_k z^{a_k}$ по $z$, получим:\n",
    "\n",
    "$$\\frac{d\\varphi}{dz} = \\displaystyle\\sum_{k=0}^{\\infty} a_k p_k z^{a_k-1}$$\n",
    "\n",
    "$$\\frac{d\\varphi}{dz} \\Bigg|_{z=1} = \\displaystyle\\sum_{k=0}^{\\infty} a_k p_k = M\\xi, \\quad \\text{где} \\quad p_k = P\\{\\xi = a_k\\}$$"
   ]
  },
  {
   "cell_type": "code",
   "execution_count": 8,
   "metadata": {},
   "outputs": [
    {
     "data": {
      "image/png": "[encoded data removed]",
      "text/latex": [
       "$\\displaystyle \\varphi_{\\Sigma}{\\left(z \\right)} = \\left(K_{i}^{2} + 2 K_{i} z^{0.25 a} \\left(1 - K_{i}\\right) + z^{a} \\left(1 - K_{i}\\right)^{2}\\right)^{2} \\left(K_{i}^{2} + 2 K_{i} z^{0.5 a} \\left(1 - K_{i}\\right) + z^{2 a} \\left(1 - K_{i}\\right)^{2}\\right)$"
      ],
      "text/plain": [
       "                                                                  2                                                  \n",
       "                  /   2          0.25*a              a          2\\  /   2          0.5*a              2*a          2\\\n",
       "varphi_Sigma(z) = \\K_i  + 2*K_i*z      *(1 - K_i) + z *(1 - K_i) / *\\K_i  + 2*K_i*z     *(1 - K_i) + z   *(1 - K_i) /"
      ]
     },
     "execution_count": 8,
     "metadata": {},
     "output_type": "execute_result"
    }
   ],
   "source": [
    "z  = sp.Symbol('z')\n",
    "a = sp.Symbol('a')\n",
    "K_i = sp.Symbol('K_i')\n",
    "phi = sp.Function('varphi_Sigma')(z)\n",
    "phi_z = sp.Eq(phi, (sp.Pow(K_i, 2) +2*K_i*(1-K_i)*sp.Pow(z, 0.25*a) + sp.Pow((1-K_i), 2)*sp.Pow(z, a))**2 * (sp.Pow(K_i, 2) +2*K_i*(1-K_i)*sp.Pow(z, 0.5*a) + sp.Pow((1-K_i), 2)*sp.Pow(z, 2*a)))\n",
    "phi_z"
   ]
  },
  {
   "cell_type": "code",
   "execution_count": 9,
   "metadata": {},
   "outputs": [
    {
     "data": {
      "image/png": "[encoded data removed]",
      "text/latex": [
       "$\\displaystyle 3.895 a$"
      ],
      "text/plain": [
       "3.895*a"
      ]
     },
     "execution_count": 9,
     "metadata": {},
     "output_type": "execute_result"
    }
   ],
   "source": [
    "4*a - (sp.diff(phi_z.rhs, z)).subs({K_i: 0.95, z: 1})"
   ]
  },
  {
   "cell_type": "markdown",
   "metadata": {},
   "source": [
    "#### *4. Производящая функция случайной величины равна $\\varphi(z)$. Вычислите дисперсию этой величины.* ####"
   ]
  },
  {
   "cell_type": "markdown",
   "metadata": {},
   "source": [
    "$$ D\\xi = M\\xi^{2} - (M\\xi)^{2}$$\n",
    "$$\\varphi (z) = \\displaystyle\\sum_{k=0}^{\\infty} p_k z^{a_k}$$\n",
    "$$\\frac{d\\varphi}{dz} = \\displaystyle\\sum_{k=0}^{\\infty} a_k p_k z^{a_k-1}$$\n",
    "$$\\frac{d^{2}\\varphi}{dz^{2}} = \\displaystyle\\sum_{k=0}^{\\infty} a_k (a_k-1) p_k z^{a_k-2}$$\n",
    "$$\\frac{d^{2}\\varphi}{dz^{2}} \\Bigg|_{z=1} = \\displaystyle\\sum_{k=0}^{\\infty} a_k^{2} p_k -  \\displaystyle\\sum_{k=0}^{\\infty} a_k p_k = M\\xi^{2}-M\\xi$$\n",
    "$$ M\\xi^{2} = \\frac{d^{2}\\varphi}{dz^{2}} \\Bigg|_{z=1} + M\\xi = \\frac{d^{2}\\varphi}{dz^{2}} \\Bigg|_{z=1} + \\frac{d\\varphi}{dz} \\Bigg|_{z=1}$$\n",
    "$$ D\\xi = \\frac{d^{2}\\varphi}{dz^{2}} \\Bigg|_{z=1} + \\frac{d\\varphi}{dz} \\Bigg|_{z=1} - \\left(\\frac{d\\varphi}{dz} \\Bigg|_{z=1}\\right)^{2}$$"
   ]
  }
 ],
 "metadata": {
  "kernelspec": {
   "display_name": "Python 3",
   "language": "python",
   "name": "python3"
  },
  "language_info": {
   "codemirror_mode": {
    "name": "ipython",
    "version": 3
   },
   "file_extension": ".py",
   "mimetype": "text/x-python",
   "name": "python",
   "nbconvert_exporter": "python",
   "pygments_lexer": "ipython3",
   "version": "3.12.8"
  }
 },
 "nbformat": 4,
 "nbformat_minor": 2
}
