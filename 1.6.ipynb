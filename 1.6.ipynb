{
 "cells": [
  {
   "cell_type": "code",
   "execution_count": 1,
   "metadata": {},
   "outputs": [],
   "source": [
    "import sympy as sp\n",
    "import numpy as np\n",
    "from sympy.plotting import plot\n",
    "from matplotlib import style\n",
    "import matplotlib.pyplot as plt\n",
    "style.use('seaborn-v0_8-whitegrid')\n",
    "sp.init_printing(use_unicode = False, wrap_line = False, no_global = True)\n",
    "%matplotlib inline"
   ]
  },
  {
   "cell_type": "markdown",
   "metadata": {},
   "source": [
    "### Задание 1.6. Марковские модели (часть 1) ###"
   ]
  },
  {
   "cell_type": "markdown",
   "metadata": {},
   "source": [
    "#### *1. Докажите, что экспоненциальное распределение обладает марковским свойством.* ####"
   ]
  },
  {
   "cell_type": "markdown",
   "metadata": {},
   "source": [
    "Доказательство:\n",
    "Рассмотрим марковское свойство: $$P\\left\\{ \\xi> t+x| \\xi>t\\right\\} = P\\left\\{\\xi>x\\right\\}$$\n",
    "Распишем условную вероятность: $$P\\left\\{ \\xi> t+x| \\xi>t\\right\\} = \\frac{P\\left\\{ \\xi> t+x, \\xi>t\\right\\}}{P\\left\\{\\xi>t\\right\\}}~~~~~~~~~(1)$$\n",
    "Так как $$\\lbrace\\xi>t+x\\rbrace\\subseteq\\lbrace\\xi>t\\rbrace\\Rightarrow\\lbrace\\xi>t+x,\\xi>t\\rbrace=\\lbrace\\xi>t+x\\rbrace$$\n",
    "Тогда (1) примет вид: $$P\\left\\{ \\xi> t+x| \\xi>t\\right\\} = \\frac{P\\left\\{ \\xi> t+x, \\xi>t\\right\\}}{P\\left\\{\\xi>t\\right\\}} = \\frac{P\\left\\{ \\xi> t+x\\right\\}}{P\\left\\{\\xi>t\\right\\}} = \\frac{R(t+x)}{R(t)} = \\frac{e^{-\\lambda(t+x)}}{e^{-\\lambda t}} = e^{-\\lambda x} = R(x) = P\\left\\{\\xi>x\\right\\}$$"
   ]
  },
  {
   "cell_type": "markdown",
   "metadata": {},
   "source": [
    "#### *2. (\\*) Докажите, что если с.в. обладает марковским свойством, то она имеет экспоненциальное распределение.* ####"
   ]
  },
  {
   "cell_type": "markdown",
   "metadata": {},
   "source": [
    "*Указание*. Для $R(t)=P\\lbrace\\xi>t\\rbrace$ соотношение $P\\lbrace\\xi>t+x|\\xi>t\\rbrace=P\\lbrace\\xi>x\\rbrace$ станет уравнением $R(t+x)=R(t)R(x)$. Проинтегрировать правую и левую части равенство по $x$ от $0$ до $\\infty$, а затем продифференцировать их по $t$. Решением полученного дифференциального уравнения будет $R(t)=e^{-\\lambda t}$\n",
    "\n",
    "**Доказательство.** Известно, что $P\\lbrace\\xi>t+x|\\xi>t\\rbrace=P\\lbrace\\xi>x\\rbrace$ выполняется для заданной $\\xi$\n",
    "$$P\\lbrace\\xi>t+x|\\xi>t\\rbrace=P\\lbrace\\xi>x\\rbrace\\Rightarrow\\frac{P\\lbrace\\xi>t+x\\rbrace}{P\\lbrace\\xi>t\\rbrace}=P\\lbrace\\xi>x\\rbrace\\Rightarrow\\frac{R(t+x)}{R(t)}=R(x)\\Rightarrow R(t+x)=R(t)R(x)$$\n",
    "$$\\int^{\\infty}_{0}{R(t+x)dx}=\\int^{\\infty}_{0}{R(t)R(x)dx}$$\n",
    "$$u=t+x;du=dx$$\n",
    "$$\n",
    "\\begin{cases}\n",
    "x=0\\to u=t\\\\\n",
    "x=\\infty\\to u=\\infty\n",
    "\\end{cases}\n",
    "$$\n",
    "$$\\int^{\\infty}_{t}{R(u)du}=R(t)\\int^{\\infty}_{0}{R(x)dx}$$\n",
    "$$\\frac{d}{dt}\\int^{\\infty}_{t}{R(u)du}=\\frac{d}{dt}\\left(R(t)\\int^{\\infty}_{0}{R(x)dx}\\right)$$\n",
    "Пусть $I_R=\\int^{\\infty}_{0}{R(x)dx}$\n",
    "$$\\frac{d}{dt}\\int^{\\infty}_{t}{R(u)du}=I_R\\frac{dR(t)}{dt}$$\n",
    "Производную интеграла вычисляем как $\\frac{d}{dt}\\int^\\infty_t{R(u)du}=-\\frac{d}{dt}\\int^t_\\infty{R(u)du}=-R(t)\\cdot 1=-R(t)$\n",
    "$$-R(t)=I_R\\frac{dR(t)}{dt}$$\n",
    "$$\\frac{dR(t)}{R(t)}=-\\frac{1}{I_R}dt$$\n",
    "$$ln{R(t)}=-\\frac{1}{I_R}t+C$$\n",
    "$$R(t)=Ce^{-\\frac{1}{I_R}t}$$\n",
    "$$R(0)=C=1\\Rightarrow R(t)=e^{-\\frac{1}{I_R}t}$$\n",
    "$$R(t)=e^{-\\frac{1}{I_R}t}=e^{-\\lambda t}, ~где ~\\lambda=\\frac{1}{I_R}=\\int^{\\infty}_{0}{R(x)dx}$$"
   ]
  },
  {
   "cell_type": "markdown",
   "metadata": {},
   "source": [
    "#### *3. Система состоит из двух последовательно соединенных блоков. Первый блок – нагруженный резерв, второй – ненагруженный. Все элементы одинаковы. Время работы имеет экспоненциальное распределение с параметром $\\lambda = 0.5 г^{−1}$. Постройте граф переходов и выпишите систему уравнений Колмогорова для вычисления вероятности безотказной работы системы.* ####"
   ]
  },
  {
   "cell_type": "markdown",
   "metadata": {},
   "source": [
    "Рассмотрим блоки, состоящие из 2-х элементов каждый (основной и резервный).\\\n",
    "Обозначим состояние системы в момент времени $t$ как случайный процесс $X(t)$.\\\n",
    "Пронумеруем состояния системы:\n",
    "\n",
    "0. Все элементы работоспособны;\n",
    "1. Отказал один из элементов из 1-го блока;\n",
    "2. Отказал основной элемент из 2-го блока;\n",
    "3. Отказали один элемент из 1-го блока и основной элемент из 2-го блока;\n",
    "4. Отказала система (второй элемент из 1-го блока или резервный из 2-го).\n",
    "\n",
    "\n",
    "Т.к. все элементы одинаковы и их время работы распределено экспоненциально, то ф.р. их времени работы до отказа $F(t)=1-e^{-\\lambda t}$\n",
    "\n",
    "\n",
    "$$p_{ij}(h)=P\\lbrace X(t+h)=j|X(t)=i\\rbrace=P\\lbrace T\\leq t+h|T>t\\rbrace=1-P\\lbrace T>t+h|T>t\\rbrace=1-e^{-\\lambda_{ij}h}$$\n",
    "$$p_{ij}(h)=1-e^{-\\lambda_{ij}h}=1-(1-\\lambda_{ij}h)+o(h)=\\lambda_{ij}h+o(h)$$\n",
    "$$\\lambda_{ij}=\\frac{dp_{ij}}{dh}(0)$$\n",
    "\n",
    "$$\n",
    "\\begin{CD}\n",
    "\\cdot @>>> \\textcircled{1} @>\\lambda>> \\cdot \\\\\n",
    "@A2\\lambda AA @V\\lambda VV @VVV\\\\\n",
    "\\textcircled{0} @. \\textcircled{3} @>2\\lambda>> \\textcircled{4}\\\\\n",
    "@V\\lambda VV @A2\\lambda AA @AAA\\\\\n",
    "\\cdot @>>> \\textcircled{2} @>\\lambda>> \\cdot\n",
    "\\end{CD}\n",
    "$$\n",
    "\n",
    "\n",
    "$$\\sum_{j=0}^4{p_{ij}(h)}=1\\Rightarrow p_{ii}(h) = 1 - \\sum_{j \\neq i} p_{ij}(h)$$\n",
    "$$\\sum_{j=0}^4{\\lambda_{ij}}=0\\Rightarrow\\lambda_{ii} = -\\sum_{j \\neq i} \\lambda_{ij}$$\n",
    "\n",
    "\n",
    "$$\n",
    "\\Lambda=[\\lambda_{ij}]_{ij}=\n",
    "\\left[\n",
    "\\begin{matrix}\n",
    "-3\\lambda & 2\\lambda & \\lambda & 0 & 0 \\\\\n",
    "0 & -2\\lambda & 0 & \\lambda & \\lambda \\\\\n",
    "0 & 0 & -3\\lambda & 2\\lambda & \\lambda \\\\\n",
    "0 & 0 & 0 & -2\\lambda & 2\\lambda \\\\\n",
    "0 & 0 & 0 & 0 & 0\n",
    "\\end{matrix}\n",
    "\\right]=\n",
    "\\left[\n",
    "\\begin{matrix}\n",
    "-1.5 & 1 & 0.5 & 0 & 0\\\\\n",
    "0 & -1 & 0 & 0.5 & 0.5\\\\\n",
    "0 & 0 & -1.5 & 1 & 0.5\\\\\n",
    "0 & 0 & 0 & -1 & 1\\\\\n",
    "0 & 0 & 0 & 0 & 0\n",
    "\\end{matrix}\n",
    "\\right]\n",
    "$$\n",
    "$$\n",
    "\\Lambda'=\n",
    "\\left[\n",
    "\\begin{matrix}\n",
    "-1.5 & 0 & 0 & 0 & 0\\\\\n",
    "1 & -1 & 0 & 0 & 0\\\\\n",
    "0.5 & 0 & -1.5 & 0 & 0\\\\\n",
    "0 & 0.5 & 1 & -1 & 0\\\\\n",
    "0 & 0.5 & 0.5 & 1 & 0\n",
    "\\end{matrix}\n",
    "\\right]\n",
    "$$\n",
    "\n",
    "\n",
    "*Система уравнений Колмогорова:*\n",
    "$$\n",
    "\\begin{cases}\n",
    "\\frac{d\\overrightarrow{p}}{dt}(t)=\\Lambda'\\overrightarrow{p}(t)\\\\\n",
    "\\sum^4_{i=0}{p_i(t)}=1\\\\\n",
    "p_0(0)=1,\\\\\n",
    "p_i(0)=0, i\\neq 0\n",
    "\\end{cases}\n",
    "$$\n",
    "\n",
    "$$\n",
    "\\begin{cases}\n",
    "\\frac{dp_0}{dt}(t)=-1.5p_0(t)\\\\\n",
    "\\frac{dp_1}{dt}(t)=p_0(t) - p_1(t)\\\\\n",
    "\\frac{dp_2}{dt}(t)=0.5p_0(t) - 1.5p_2(t)\\\\\n",
    "\\frac{dp_3}{dt}(t)=0.5p_1(t) + p_2(t) - p_3(t)\\\\\n",
    "\\frac{dp_4}{dt}(t)=0.5p_1(t) + 0.5p_2(t) + p_3(t)\\\\\n",
    "\\sum^4_{i=0}{p_i(t)}=1\\\\\n",
    "p_0(0)=1,\\\\\n",
    "p_i(0)=0, i\\neq 0\n",
    "\\end{cases}\n",
    "$$"
   ]
  },
  {
   "cell_type": "markdown",
   "metadata": {},
   "source": [
    "#### *5. Решите систему Колмогорова из предыдущей задачи с помощью преобразования Лапласа. Найдите вероятность безотказной работы системы. Постройте графики ее зависимости от времени.* ####"
   ]
  },
  {
   "cell_type": "markdown",
   "metadata": {},
   "source": [
    "$$\n",
    "\\begin{cases}\n",
    "\\frac{dp_0}{dt}(t)=-1.5p_0(t)\\\\\n",
    "\\frac{dp_1}{dt}(t)=p_0(t) - p_1(t)\\\\\n",
    "\\frac{dp_2}{dt}(t)=p_0(t) - 1.5p_2(t)\\\\\n",
    "\\frac{dp_3}{dt}(t)=0.5p_1(t) + p_2(t) - p_3(t)\\\\\n",
    "\\frac{dp_4}{dt}(t)=0.5p_1(t) + 0.5p_2(t) + p_3(t)\\\\\n",
    "\\sum^4_{i=0}{p_i(t)}=1\\\\\n",
    "p_0(0)=1,\\\\\n",
    "p_i(0)=0, i\\neq 0\n",
    "\\end{cases}\n",
    "$$\n",
    "\n",
    "\n",
    "Т.к. $det{\\Lambda}=det{\\Lambda'}=0$, то выбросим 5-е уравнение (с производной $p_4$):\n",
    "$$\n",
    "\\begin{cases}\n",
    "\\frac{dp_0}{dt}(t)=-1.5p_0(t)\\\\\n",
    "\\frac{dp_1}{dt}(t)=p_0(t) - p_1(t)\\\\\n",
    "\\frac{dp_2}{dt}(t)=p_0(t) - 1.5p_2(t)\\\\\n",
    "\\frac{dp_3}{dt}(t)=0.5p_1(t) + p_2(t) - p_3(t)\\\\\n",
    "\\sum^4_{i=0}{p_i(t)}=1\\\\\n",
    "p_0(0)=1,\\\\\n",
    "p_i(0)=0, i\\neq 0\n",
    "\\end{cases}\n",
    "$$\n",
    "\n",
    "\n",
    "Для решений системы воспользуемся преобразованиями Лапласа\n",
    "$$p_i(t)\\risingdotseq\\widetilde{p}_i(s)$$\n",
    "$$\\frac{dp_i}{dt}(t)\\risingdotseq s\\widetilde{p}_i(s)-p_i(0)$$\n",
    "\n",
    "\n",
    "Получим:\n",
    "$$\n",
    "\\begin{cases}\n",
    "s\\widetilde{p}_0(s)-1=-1.5\\widetilde{p}_0(s)\\\\\n",
    "s\\widetilde{p}_1(s)=\\widetilde{p}_0(s)-\\widetilde{p}_1(s)\\\\\n",
    "s\\widetilde{p}_2(s)=\\widetilde{p}_0(s)-1.5\\widetilde{p}_2(s)\\\\\n",
    "s\\widetilde{p}_3(s)=0.5\\widetilde{p}_1(s)+\\widetilde{p}_2(s)-\\widetilde{p}_3(s)\\\\\n",
    "\\sum_{i=0}^4{\\widetilde{p}_i(s)}=\\frac{1}{s}\n",
    "\\end{cases}\n",
    "$$\n",
    "\n",
    "\n",
    "Найдём $\\widetilde{p}_0(s)$:\n",
    "$$(s+1.5)\\widetilde{p}_0(s)=1$$\n",
    "$$\\widetilde{p}_0(s)=\\frac{1}{s+1.5}$$\n",
    "Получили табличное изображение, можем найти $p_0(t)$:\n",
    "$$p_0(t)=e^{-1.5t}$$\n",
    "\n",
    "\n",
    "Найдём $\\widetilde{p}_1(s)$:\n",
    "$$(s+1)\\widetilde{p}_1(s)=\\widetilde{p}_0(s)$$\n",
    "$$(s+1)\\widetilde{p}_1(s)=\\frac{1}{(s+1.5)}$$\n",
    "$$\\widetilde{p}_1(s)=\\frac{1}{(s+1)(s+1.5)}$$\n",
    "По методу неопределённых коэффициентов:\n",
    "$$\\frac{1}{(s+1)(s+1.5)}=\\frac{A}{s+1}+\\frac{B}{s+1.5}=\\frac{(A+B)s+(1.5A+B)}{(s+1)(s+1.5)}$$\n",
    "$$\n",
    "\\begin{cases}\n",
    "A+B=0\\\\\n",
    "1.5A+B=1\n",
    "\\end{cases}\n",
    "$$\n",
    "$$A=-B$$\n",
    "$$-0.5B=1\\Rightarrow B=-2$$\n",
    "$$A=2$$\n",
    "$$\\widetilde{p}_1(s)=\\frac{2}{s+1}-\\frac{2}{s+1.5}$$\n",
    "Найдём $p_1(t)$:\n",
    "$$p_1(t)=2e^{-t}-2e^{-1.5t}$$\n",
    "\n",
    "\n",
    "Найдём $\\widetilde{p}_2(s)$:\n",
    "$$(s+1.5)\\widetilde{p}_2(s)=\\widetilde{p}_0(s)$$\n",
    "Аналогично получаем:\n",
    "$$\\widetilde{p}_2(s)=\\frac{1}{(s+1.5)^2}$$\n",
    "$$p_2(t)=te^{-1.5t}$$\n",
    "\n",
    "\n",
    "Найдём $\\widetilde{p}_3(s)$:\n",
    "$$(s+1)\\widetilde{p}_3(s)=0.5\\widetilde{p}_1(s)+\\widetilde{p}_2(s)$$\n",
    "$$(s+1)\\widetilde{p}_3(s)=\\frac{1}{s+1}-\\frac{1}{s+1.5}+\\frac{1}{(s+1.5)^2}$$\n",
    "$$\\widetilde{p}_3(s)=\\frac{1}{(s+1)(s+1.5)^2}=\\left[\\frac{A}{s+1}+\\frac{B}{s+1.5}+\\frac{C}{(s+1.5)^2}\\right]$$"
   ]
  },
  {
   "cell_type": "code",
   "execution_count": 2,
   "metadata": {},
   "outputs": [
    {
     "data": {
      "image/png": "[encoded data removed]",
      "text/latex": [
       "$\\displaystyle 1.0 A s^{2} + 3.0 A s + 2.25 A + B s^{2} + 2.5 B s + 1.5 B + C s + C$"
      ],
      "text/plain": [
       "       2                         2                            \n",
       "1.0*A*s  + 3.0*A*s + 2.25*A + B*s  + 2.5*B*s + 1.5*B + C*s + C"
      ]
     },
     "execution_count": 2,
     "metadata": {},
     "output_type": "execute_result"
    }
   ],
   "source": [
    "sp.expand('A*(s+1.5)^2+B*(s+1)*(s+1.5)+C*(s+1)').simplify()"
   ]
  },
  {
   "cell_type": "markdown",
   "metadata": {},
   "source": [
    "$$\n",
    "\\begin{cases}\n",
    "A+B=0\\\\\n",
    "3A+2.5B+C=0\\\\\n",
    "2.25A+1.5B+C=1\n",
    "\\end{cases}\n",
    "$$"
   ]
  },
  {
   "cell_type": "code",
   "execution_count": 3,
   "metadata": {},
   "outputs": [
    {
     "data": {
      "text/plain": [
       "array([ 4., -4., -2.])"
      ]
     },
     "execution_count": 3,
     "metadata": {},
     "output_type": "execute_result"
    }
   ],
   "source": [
    "np.linalg.solve(\n",
    "    np.array([\n",
    "        [1, 1, 0],\n",
    "        [3, 2.5, 1],\n",
    "        [2.25, 1.5, 1]\n",
    "    ]),\n",
    "    np.array([0, 0, 1])\n",
    ")"
   ]
  },
  {
   "cell_type": "markdown",
   "metadata": {},
   "source": [
    "$$\\widetilde{p}_3(s)=\\frac{4}{s+1}-\\frac{4}{s+1.5}-\\frac{2}{(s+1.5)^2}$$\n",
    "$$p_3(t)=4e^{-t}-4e^{-1.5t}-2te^{-1.5}$$\n",
    "\n",
    "\n",
    "Выразим $\\widetilde{p}_4(s)$:\n",
    "$$\\widetilde{p}_4(s)=\\frac{1}{s}-\\widetilde{p}_0(s)-\\widetilde{p}_1(s)-\\widetilde{p}_2(s)-\\widetilde{p}_3(s)=$$\n",
    "$$=\\frac{1}{s}-\\frac{1}{s+1.5}-\\frac{2}{s+1}+\\frac{2}{s+1.5}-\\frac{4}{s+1}+\\frac{4}{s+1.5}+\\frac{2}{(s+1.5)^2}=$$\n",
    "$$=\\frac{1}{s}-\\frac{6}{s+1}+\\frac{5}{s+1.5}+\\frac{2}{(s+1.5)^2}$$\n",
    "Найдём $p_4(t)$:\n",
    "$$p_4(t)=1-6e^{-t}+5e^{-1.5t}+2te^{-1.5t}$$\n",
    "\n",
    "\n",
    "$$\n",
    "\\begin{cases}\n",
    "p_0(t)=e^{-1.5t}\\\\\n",
    "p_1(t)=2e^{-t}-2e^{-1.5t}\\\\\n",
    "p_2(t)=te^{-1.5t}\\\\\n",
    "p_3(t)=4e^{-t}-4e^{-1.5t}-2te^{-1.5t}\\\\\n",
    "p_4(t)=1-6e^{-t}+5e^{-1.5t}+2te^{-1.5t}\n",
    "\\end{cases}\n",
    "$$\n",
    "\n",
    "\n",
    "$$F(t)=p_4(t)=1-6e^{-t}+5e^{-1.5t}+2te^{-1.5t}$$\n",
    "$$R(t)=1-F(t)=6e^{-t}-5e^{-1.5t}-2te^{-1.5t}$$"
   ]
  },
  {
   "cell_type": "code",
   "execution_count": 4,
   "metadata": {},
   "outputs": [
    {
     "data": {
      "image/png": "[encoded data removed]",
      "text/plain": [
       "<Figure size 640x480 with 1 Axes>"
      ]
     },
     "metadata": {},
     "output_type": "display_data"
    }
   ],
   "source": [
    "R = lambda t : 6*np.exp(-t)-5*np.exp(-1.5*t)-2*t*np.exp(-1.5*t)\n",
    "x = np.linspace(0, 10, 20)\n",
    "y = R(x)\n",
    "plt.plot(x, y)\n",
    "plt.ylabel(\"$R(t)$\")\n",
    "plt.xlabel(\"$t$\")\n",
    "plt.title(\"График безотказной работы системaы\")\n",
    "plt.xlim(0)\n",
    "plt.ylim(0)\n",
    "plt.show()"
   ]
  }
 ],
 "metadata": {
  "kernelspec": {
   "display_name": "Python 3",
   "language": "python",
   "name": "python3"
  },
  "language_info": {
   "codemirror_mode": {
    "name": "ipython",
    "version": 3
   },
   "file_extension": ".py",
   "mimetype": "text/x-python",
   "name": "python",
   "nbconvert_exporter": "python",
   "pygments_lexer": "ipython3",
   "version": "3.12.8"
  }
 },
 "nbformat": 4,
 "nbformat_minor": 2
}
