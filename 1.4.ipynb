{
 "cells": [
  {
   "cell_type": "code",
   "execution_count": 24,
   "metadata": {},
   "outputs": [],
   "source": [
    "import sympy as sp"
   ]
  },
  {
   "cell_type": "markdown",
   "metadata": {},
   "source": [
    "### Задание 1.4. Методы минимальных путей и сечений ###"
   ]
  },
  {
   "cell_type": "markdown",
   "metadata": {},
   "source": [
    "#### *1. Вычислите структурную функцию работоспособности (СФР) методами минимальных путей и сечений для участка газотранспортной сети Ямбург-Челябинск.* ####\n",
    "\n",
    "<p align=\"center\">\n",
    "  <img src=\"images\\9.png\" width=700/>\n",
    "</p>"
   ]
  },
  {
   "cell_type": "markdown",
   "metadata": {},
   "source": [
    "Построим схему сети:\n",
    "\n",
    "<p align=\"center\">\n",
    "  <img src=\"images\\10.jpg\" width=700/>\n",
    "</p>\n",
    "\n",
    "**Обозначения:**\n",
    "1. Ямбург - развилка вост.\n",
    "2. Ямбург - Уренгой\n",
    "3. Уренгой - развилка вост.\n",
    "4. Уренгой - Челябинск\n",
    "5. рзавилка вост. - Надым - Пунга - развилка зап.\n",
    "6. развилка вост. - развилка зап.\n",
    "7. развилка зап. - Челябинск\n",
    "\n",
    "**Минимальные пути:**\n",
    "\n",
    "2 - 3 - 5 - 7\n",
    "\n",
    "2 - 3 - 6 - 7\n",
    "\n",
    "1 - 3 - 4\n",
    "\n",
    "1 - 5 - 7\n",
    "\n",
    "1 - 6 - 7\n",
    "\n",
    "2 - 4\n",
    "\n",
    "$$ S(x) = 1 - \\prod_{i=1}^{6} \\alpha_i(x) = 1 - (1-x_2 x_3 x_5 x_7)(1 - x_2 x_3 x_6 x_7)(1 - x_1 x_3 x_4)(1 - x_1 x_5 x_7)(1 - x_1 x_6 x_7)(1 - x_2 x_4) $$\n",
    "\n",
    "**Минимальные сечения:**\n",
    "\n",
    "1 - 2\n",
    "\n",
    "5 - 6 - 4\n",
    "\n",
    "7 - 4\n",
    "\n",
    "1 - 3 - 4\n",
    "\n",
    "2 - 3 - 5 - 6\n",
    "\n",
    "2 - 3 - 7\n",
    "\n",
    "$$ S(x) = \\prod_{k=1}^{6} \\beta_k(x) = (1 - (1 - x_1)(1 - x_2))(1 - (1 - x_4)(1 - x_5)(1 - x_6))(1 - (1 - x_4)(1 - x_7))\\cdot\\\\\\cdot(1 - (1 - x_1)(1 - x_3)(1 - x_4))(1 - (1 - x_2)(1 - x_3)(1 - x_5)(1 - x_6))(1 - (1 - x_2)(1 - x_3)(1 - x_7))\n",
    "\n",
    "\n",
    "\n"
   ]
  },
  {
   "cell_type": "markdown",
   "metadata": {},
   "source": [
    "#### *2. Методом минимальных путей и сечений вычислите верхнюю и нижнюю оценки вероятности безотказной работы сети Ямбург-Челябинск в течение 3-х лет, если известна протяженность участков (табл.), а удельная интенсивность отказов одной нитки газопровода – 0.4 отказа на тыс. км в год.* ####\n",
    "\n",
    "<p align=\"center\">\n",
    "  <img src=\"images\\11.jpg\" width=700/>\n",
    "</p>"
   ]
  },
  {
   "cell_type": "markdown",
   "metadata": {},
   "source": [
    "$$ \\prod_{i=1}^{n} \\mathbb{P}\\{\\beta_i(x) = 1\\} \\leqslant R \\leqslant 1 - \\prod_{i=1}^{n}\\mathbb{P}\\{\\alpha_i(x) = 0\\} $$\n",
    "\n",
    "**Представим схему в виде:**\n",
    "\n",
    "Параллельном\n",
    "\n",
    "<p align=\"center\">\n",
    "  <img src=\"images\\12.jpg\" width=700/>\n",
    "</p>\n",
    "\n",
    "\n",
    "Последовательном\n",
    "\n",
    "<p align=\"center\">\n",
    "  <img src=\"images\\13.jpg\" width=700/>\n",
    "</p>\n",
    "\n"
   ]
  },
  {
   "cell_type": "code",
   "execution_count": 25,
   "metadata": {},
   "outputs": [],
   "source": [
    "p = sp.symbols('p_1:8')\n",
    "S_min = sp.Function('S_min')\n",
    "S_max = sp.Function('S_max')\n",
    "S_12 = 1-(1-p[0])*(1-p[1])\n",
    "S_456 = 1-(1-p[3])*(1-p[4])*(1-p[5])\n",
    "S_47 = 1-(1-p[3])*(1-p[6])\n",
    "S_134 = 1-(1-p[0])*(1-p[2])*(1-p[3])\n",
    "S_2356 = 1-(1-p[1])*(1-p[2])*(1-p[4])*(1-p[5])\n",
    "S_237 = 1-(1-p[1])*(1-p[2])*(1-p[6])"
   ]
  },
  {
   "cell_type": "code",
   "execution_count": 26,
   "metadata": {},
   "outputs": [
    {
     "name": "stdout",
     "output_type": "stream",
     "text": [
      "S_min =  0.677837232603970\n"
     ]
    }
   ],
   "source": [
    "S_min = S_12 * S_456 * S_47 * S_134 * S_2356 * S_237\n",
    "S_min_val = S_min.subs({p[0]: 1-(1-sp.exp(-0.4*10**(-3)*160*3))**3, \n",
    "            p[1]: 1-(1-sp.exp(-0.4*10**(-3)*140*3)),\n",
    "            p[2]: 1-(1-sp.exp(-0.4*10**(-3)*130*3))**3,\n",
    "            p[3]: 1-(1-sp.exp(-0.4*10**(-3)*(1200+580)*3))**2, \n",
    "            p[4]: 1-(1-sp.exp(-0.4*10**(-3)*(240+500+280)*3))**3, \n",
    "            p[5]: 1-(1-sp.exp(-0.4*10**(-3)*1000*3))**4,\n",
    "            p[6]: (1-(1-sp.exp(-0.4*10**(-3)*130*3))**4)*(1-(1-sp.exp(-0.4*10**(-3)*750*3))**2)})\n",
    "\n",
    "print(\"S_min = \", S_min_val)"
   ]
  },
  {
   "cell_type": "code",
   "execution_count": 27,
   "metadata": {},
   "outputs": [],
   "source": [
    "S_2357 = 1-p[1]*p[2]*p[4]*p[6]\n",
    "S_2367 = 1-p[1]*p[2]*p[5]*p[6]\n",
    "S_24 = 1-p[1]*p[3]\n",
    "S_134 = 1-p[0]*p[2]*p[3]\n",
    "S_157 = 1-p[0]*p[4]*p[6]\n",
    "S_167 = 1-p[0]*p[5]*p[6]"
   ]
  },
  {
   "cell_type": "code",
   "execution_count": 28,
   "metadata": {},
   "outputs": [
    {
     "name": "stdout",
     "output_type": "stream",
     "text": [
      "S_max =  0.929047109323050\n"
     ]
    }
   ],
   "source": [
    "S_max = 1 - S_2357 * S_2367 * S_24 * S_134 * S_157 * S_167\n",
    "S_max_val = S_max.subs({p[0]: 1-(1-sp.exp(-0.4*10**(-3)*160*3))**3, \n",
    "            p[1]: 1-(1-sp.exp(-0.4*10**(-3)*140*3)),\n",
    "            p[2]: 1-(1-sp.exp(-0.4*10**(-3)*130*3))**3,\n",
    "            p[3]: 1-(1-sp.exp(-0.4*10**(-3)*(1200+580)*3))**2, \n",
    "            p[4]: 1-(1-sp.exp(-0.4*10**(-3)*(240+500+280)*3))**3, \n",
    "            p[5]: 1-(1-sp.exp(-0.4*10**(-3)*1000*3))**4,\n",
    "            p[6]: (1-(1-sp.exp(-0.4*10**(-3)*130*3))**4)*(1-(1-sp.exp(-0.4*10**(-3)*750*3))**2)})\n",
    "\n",
    "print(\"S_max = \", S_max_val)"
   ]
  },
  {
   "cell_type": "markdown",
   "metadata": {},
   "source": [
    "$$ 0.528416304079905 \\leqslant R \\leqslant 0.929047109323050"
   ]
  },
  {
   "cell_type": "markdown",
   "metadata": {},
   "source": [
    "#### *3. Решите предыдущую задачу методом рёберно-непересекающихся минимальных путей и сечений.* ####"
   ]
  },
  {
   "cell_type": "markdown",
   "metadata": {},
   "source": [
    "<style>\n",
    "table {\n",
    "  border: none;\n",
    "}\n",
    "td {\n",
    "  border: none;\n",
    "}\n",
    "</style>\n",
    "\n",
    "<table style=\"border: none;\">\n",
    "  <tr>\n",
    "    <td style=\"vertical-align: top; text-align: center; border: none;\">Реберно-непересекающиеся пути</td>\n",
    "    <td style=\"vertical-align: top; text-align: center; border: none;\">Реберно-непересекающиеся сечения</td>\n",
    "  </tr>\n",
    "  <tr>\n",
    "    <td style=\"vertical-align: top; text-align: center; border: none;\">\n",
    "      <img src=\"images/14.jpg\" width=\"300\" />\n",
    "    </td>\n",
    "    <td style=\"vertical-align: top; text-align: center; border: none;\">\n",
    "      <img src=\"images/15.jpg\" width=\"400\" />\n",
    "    </td>\n",
    "  </tr>\n",
    "</table>\n",
    "\n",
    "$$ max(S_{12457}, S_{12467}, S_{2367}, S_{2357}, S_{134}) < R < min(S_{1247}, S_{12456}, S_{134}, S_{2356}, S_{237})\n"
   ]
  },
  {
   "cell_type": "code",
   "execution_count": 29,
   "metadata": {},
   "outputs": [],
   "source": [
    "p = sp.symbols('p_1:8')\n",
    "S_12457 = 1 - (1-p[0]*p[4]*p[6])*(1-p[1]*p[3])\n",
    "S_12467 = 1 - (1-p[0]*p[5]*p[6])*(1-p[1]*p[3])\n",
    "S_2367 = p[1]*p[2]*p[5]*p[6]\n",
    "S_2357 = p[1]*p[2]*p[4]*p[6]\n",
    "S_134 = p[0]*p[2]*p[3]"
   ]
  },
  {
   "cell_type": "code",
   "execution_count": 30,
   "metadata": {},
   "outputs": [],
   "source": [
    "values = {p[0]: 1-(1-sp.exp(-0.4*10**(-3)*160*3))**3, \n",
    "            p[1]: 1-(1-sp.exp(-0.4*10**(-3)*140*3)),\n",
    "            p[2]: 1-(1-sp.exp(-0.4*10**(-3)*130*3))**3,\n",
    "            p[3]: 1-(1-sp.exp(-0.4*10**(-3)*(1200+580)*3))**2, \n",
    "            p[4]: 1-(1-sp.exp(-0.4*10**(-3)*(240+500+280)*3))**3, \n",
    "            p[5]: 1-(1-sp.exp(-0.4*10**(-3)*1000*3))**4,\n",
    "            p[6]: (1-(1-sp.exp(-0.4*10**(-3)*130*3))**4)*(1-(1-sp.exp(-0.4*10**(-3)*750*3))**2)}"
   ]
  },
  {
   "cell_type": "code",
   "execution_count": 31,
   "metadata": {},
   "outputs": [
    {
     "data": {
      "text/latex": [
       "$\\displaystyle 0.586253132734936$"
      ],
      "text/plain": [
       "0.586253132734936"
      ]
     },
     "execution_count": 31,
     "metadata": {},
     "output_type": "execute_result"
    }
   ],
   "source": [
    "S_min = max(S_12457.subs(values), S_12467.subs(values), S_2367.subs(values), S_2357.subs(values), S_134.subs(values))\n",
    "S_min"
   ]
  },
  {
   "cell_type": "code",
   "execution_count": 32,
   "metadata": {},
   "outputs": [],
   "source": [
    "S_1247 = (1-(1-p[0])*(1-p[1]))*(1-(1-p[3])*(1-p[6]))\n",
    "S_12456 = (1-(1-p[0])*(1-p[1]))*(1-(1-p[3])*(1-p[4])*(1-p[5]))\n",
    "S_134 = 1-(1-p[0])*(1-p[2])*(1-p[3])\n",
    "S_2356 = 1-(1-p[1])*(1-p[2])*(1-p[4])*(1-p[5])\n",
    "S_237 = 1-(1-p[1])*(1-p[2])*(1-p[6])"
   ]
  },
  {
   "cell_type": "code",
   "execution_count": 33,
   "metadata": {},
   "outputs": [
    {
     "data": {
      "text/latex": [
       "$\\displaystyle 0.725307360782395$"
      ],
      "text/plain": [
       "0.725307360782395"
      ]
     },
     "execution_count": 33,
     "metadata": {},
     "output_type": "execute_result"
    }
   ],
   "source": [
    "S_max = min(S_1247.subs(values), S_12456.subs(values), S_134.subs(values), S_2356.subs(values), S_237.subs(values))\n",
    "S_max"
   ]
  },
  {
   "cell_type": "markdown",
   "metadata": {},
   "source": [
    "$$ 0.586253132734936 < R < 0.725307360782395"
   ]
  },
  {
   "cell_type": "markdown",
   "metadata": {},
   "source": [
    "#### *4. Преобразовав СФР к виду, линейному по каждому аргументу, вычислите точную вероятность безотказной работы участка сети, рассмотренного в предыдущих задачах.* ####"
   ]
  },
  {
   "cell_type": "markdown",
   "metadata": {},
   "source": [
    "$$ R = S(p) $$"
   ]
  },
  {
   "cell_type": "code",
   "execution_count": 34,
   "metadata": {},
   "outputs": [],
   "source": [
    "x = sp.symbols('x_1:8')\n",
    "S_2357 = 1 - x[1]* x[2]* x[4]*x[6]\n",
    "S_2367 = 1 - x[1]* x[2]* x[5]*x[6]\n",
    "S_24  = 1 - x[1]* x[3]\n",
    "S_134 = 1 - x[0]* x[2]* x[3]\n",
    "S_157 = 1 - x[0]* x[4]* x[6]\n",
    "S_167 = 1 - x[0]* x[5]* x[6]"
   ]
  },
  {
   "cell_type": "code",
   "execution_count": 35,
   "metadata": {},
   "outputs": [],
   "source": [
    "x = sp.symbols('x_1:8')\n",
    "S_2357 = 1 - x[1]* x[2]* x[4]*x[6]\n",
    "S_2367 = 1 - x[1]* x[2]* x[5]*x[6]\n",
    "S_24  = 1 - x[1]* x[3]\n",
    "S_134 = 1 - x[0]* x[2]* x[3]\n",
    "S_157 = 1 - x[0]* x[4]* x[6]\n",
    "S_167 = 1 - x[0]* x[5]* x[6]"
   ]
  },
  {
   "cell_type": "code",
   "execution_count": 36,
   "metadata": {},
   "outputs": [
    {
     "data": {
      "text/latex": [
       "$\\displaystyle S{\\left(x_{1},x_{2},x_{3},x_{4},x_{5},x_{6},x_{7} \\right)} = - \\left(- x_{2} x_{4} + 1\\right) \\left(- x_{1} x_{3} x_{4} + 1\\right) \\left(- x_{1} x_{5} x_{7} + 1\\right) \\left(- x_{1} x_{6} x_{7} + 1\\right) \\left(- x_{2} x_{3} x_{5} x_{7} + 1\\right) \\left(- x_{2} x_{3} x_{6} x_{7} + 1\\right) + 1$"
      ],
      "text/plain": [
       "Eq(S(x_1, x_2, x_3, x_4, x_5, x_6, x_7), -(-x_2*x_4 + 1)*(-x_1*x_3*x_4 + 1)*(-x_1*x_5*x_7 + 1)*(-x_1*x_6*x_7 + 1)*(-x_2*x_3*x_5*x_7 + 1)*(-x_2*x_3*x_6*x_7 + 1) + 1)"
      ]
     },
     "execution_count": 36,
     "metadata": {},
     "output_type": "execute_result"
    }
   ],
   "source": [
    "S = sp.Function('S')(x[0], x[1], x[2], x[3], x[4], x[5], x[6])\n",
    "S = sp.Eq(S, 1 - S_2357 * S_2367 * S_24 * S_134 * S_157 * S_167)\n",
    "S"
   ]
  },
  {
   "cell_type": "code",
   "execution_count": 37,
   "metadata": {},
   "outputs": [
    {
     "data": {
      "text/latex": [
       "$\\displaystyle - x_{1}^{3} x_{2}^{3} x_{3}^{3} x_{4}^{2} x_{5}^{2} x_{6}^{2} x_{7}^{4} + x_{1}^{3} x_{2}^{2} x_{3}^{3} x_{4} x_{5}^{2} x_{6}^{2} x_{7}^{4} + x_{1}^{3} x_{2}^{2} x_{3}^{2} x_{4}^{2} x_{5}^{2} x_{6} x_{7}^{3} + x_{1}^{3} x_{2}^{2} x_{3}^{2} x_{4}^{2} x_{5} x_{6}^{2} x_{7}^{3} - x_{1}^{3} x_{2} x_{3}^{2} x_{4} x_{5}^{2} x_{6} x_{7}^{3} - x_{1}^{3} x_{2} x_{3}^{2} x_{4} x_{5} x_{6}^{2} x_{7}^{3} - x_{1}^{3} x_{2} x_{3} x_{4}^{2} x_{5} x_{6} x_{7}^{2} + x_{1}^{3} x_{3} x_{4} x_{5} x_{6} x_{7}^{2} + x_{1}^{2} x_{2}^{3} x_{3}^{3} x_{4}^{2} x_{5}^{2} x_{6} x_{7}^{3} + x_{1}^{2} x_{2}^{3} x_{3}^{3} x_{4}^{2} x_{5} x_{6}^{2} x_{7}^{3} + x_{1}^{2} x_{2}^{3} x_{3}^{2} x_{4} x_{5}^{2} x_{6}^{2} x_{7}^{4} - x_{1}^{2} x_{2}^{2} x_{3}^{3} x_{4} x_{5}^{2} x_{6} x_{7}^{3} - x_{1}^{2} x_{2}^{2} x_{3}^{3} x_{4} x_{5} x_{6}^{2} x_{7}^{3} - x_{1}^{2} x_{2}^{2} x_{3}^{2} x_{4}^{2} x_{5}^{2} x_{7}^{2} - 2 x_{1}^{2} x_{2}^{2} x_{3}^{2} x_{4}^{2} x_{5} x_{6} x_{7}^{2} - x_{1}^{2} x_{2}^{2} x_{3}^{2} x_{4}^{2} x_{6}^{2} x_{7}^{2} - x_{1}^{2} x_{2}^{2} x_{3}^{2} x_{5}^{2} x_{6}^{2} x_{7}^{4} - x_{1}^{2} x_{2}^{2} x_{3} x_{4} x_{5}^{2} x_{6} x_{7}^{3} - x_{1}^{2} x_{2}^{2} x_{3} x_{4} x_{5} x_{6}^{2} x_{7}^{3} + x_{1}^{2} x_{2} x_{3}^{2} x_{4} x_{5}^{2} x_{7}^{2} + 2 x_{1}^{2} x_{2} x_{3}^{2} x_{4} x_{5} x_{6} x_{7}^{2} + x_{1}^{2} x_{2} x_{3}^{2} x_{4} x_{6}^{2} x_{7}^{2} + x_{1}^{2} x_{2} x_{3} x_{4}^{2} x_{5} x_{7} + x_{1}^{2} x_{2} x_{3} x_{4}^{2} x_{6} x_{7} + x_{1}^{2} x_{2} x_{3} x_{5}^{2} x_{6} x_{7}^{3} + x_{1}^{2} x_{2} x_{3} x_{5} x_{6}^{2} x_{7}^{3} + x_{1}^{2} x_{2} x_{4} x_{5} x_{6} x_{7}^{2} - x_{1}^{2} x_{3} x_{4} x_{5} x_{7} - x_{1}^{2} x_{3} x_{4} x_{6} x_{7} - x_{1}^{2} x_{5} x_{6} x_{7}^{2} - x_{1} x_{2}^{3} x_{3}^{3} x_{4}^{2} x_{5} x_{6} x_{7}^{2} - x_{1} x_{2}^{3} x_{3}^{2} x_{4} x_{5}^{2} x_{6} x_{7}^{3} - x_{1} x_{2}^{3} x_{3}^{2} x_{4} x_{5} x_{6}^{2} x_{7}^{3} + x_{1} x_{2}^{2} x_{3}^{3} x_{4} x_{5} x_{6} x_{7}^{2} + x_{1} x_{2}^{2} x_{3}^{2} x_{4}^{2} x_{5} x_{7} + x_{1} x_{2}^{2} x_{3}^{2} x_{4}^{2} x_{6} x_{7} + x_{1} x_{2}^{2} x_{3}^{2} x_{5}^{2} x_{6} x_{7}^{3} + x_{1} x_{2}^{2} x_{3}^{2} x_{5} x_{6}^{2} x_{7}^{3} + x_{1} x_{2}^{2} x_{3} x_{4} x_{5}^{2} x_{7}^{2} + 2 x_{1} x_{2}^{2} x_{3} x_{4} x_{5} x_{6} x_{7}^{2} + x_{1} x_{2}^{2} x_{3} x_{4} x_{6}^{2} x_{7}^{2} - x_{1} x_{2} x_{3}^{2} x_{4} x_{5} x_{7} - x_{1} x_{2} x_{3}^{2} x_{4} x_{6} x_{7} - x_{1} x_{2} x_{3} x_{4}^{2} - x_{1} x_{2} x_{3} x_{5}^{2} x_{7}^{2} - 2 x_{1} x_{2} x_{3} x_{5} x_{6} x_{7}^{2} - x_{1} x_{2} x_{3} x_{6}^{2} x_{7}^{2} - x_{1} x_{2} x_{4} x_{5} x_{7} - x_{1} x_{2} x_{4} x_{6} x_{7} + x_{1} x_{3} x_{4} + x_{1} x_{5} x_{7} + x_{1} x_{6} x_{7} + x_{2}^{3} x_{3}^{2} x_{4} x_{5} x_{6} x_{7}^{2} - x_{2}^{2} x_{3}^{2} x_{5} x_{6} x_{7}^{2} - x_{2}^{2} x_{3} x_{4} x_{5} x_{7} - x_{2}^{2} x_{3} x_{4} x_{6} x_{7} + x_{2} x_{3} x_{5} x_{7} + x_{2} x_{3} x_{6} x_{7} + x_{2} x_{4}$"
      ],
      "text/plain": [
       "-x_1**3*x_2**3*x_3**3*x_4**2*x_5**2*x_6**2*x_7**4 + x_1**3*x_2**2*x_3**3*x_4*x_5**2*x_6**2*x_7**4 + x_1**3*x_2**2*x_3**2*x_4**2*x_5**2*x_6*x_7**3 + x_1**3*x_2**2*x_3**2*x_4**2*x_5*x_6**2*x_7**3 - x_1**3*x_2*x_3**2*x_4*x_5**2*x_6*x_7**3 - x_1**3*x_2*x_3**2*x_4*x_5*x_6**2*x_7**3 - x_1**3*x_2*x_3*x_4**2*x_5*x_6*x_7**2 + x_1**3*x_3*x_4*x_5*x_6*x_7**2 + x_1**2*x_2**3*x_3**3*x_4**2*x_5**2*x_6*x_7**3 + x_1**2*x_2**3*x_3**3*x_4**2*x_5*x_6**2*x_7**3 + x_1**2*x_2**3*x_3**2*x_4*x_5**2*x_6**2*x_7**4 - x_1**2*x_2**2*x_3**3*x_4*x_5**2*x_6*x_7**3 - x_1**2*x_2**2*x_3**3*x_4*x_5*x_6**2*x_7**3 - x_1**2*x_2**2*x_3**2*x_4**2*x_5**2*x_7**2 - 2*x_1**2*x_2**2*x_3**2*x_4**2*x_5*x_6*x_7**2 - x_1**2*x_2**2*x_3**2*x_4**2*x_6**2*x_7**2 - x_1**2*x_2**2*x_3**2*x_5**2*x_6**2*x_7**4 - x_1**2*x_2**2*x_3*x_4*x_5**2*x_6*x_7**3 - x_1**2*x_2**2*x_3*x_4*x_5*x_6**2*x_7**3 + x_1**2*x_2*x_3**2*x_4*x_5**2*x_7**2 + 2*x_1**2*x_2*x_3**2*x_4*x_5*x_6*x_7**2 + x_1**2*x_2*x_3**2*x_4*x_6**2*x_7**2 + x_1**2*x_2*x_3*x_4**2*x_5*x_7 + x_1**2*x_2*x_3*x_4**2*x_6*x_7 + x_1**2*x_2*x_3*x_5**2*x_6*x_7**3 + x_1**2*x_2*x_3*x_5*x_6**2*x_7**3 + x_1**2*x_2*x_4*x_5*x_6*x_7**2 - x_1**2*x_3*x_4*x_5*x_7 - x_1**2*x_3*x_4*x_6*x_7 - x_1**2*x_5*x_6*x_7**2 - x_1*x_2**3*x_3**3*x_4**2*x_5*x_6*x_7**2 - x_1*x_2**3*x_3**2*x_4*x_5**2*x_6*x_7**3 - x_1*x_2**3*x_3**2*x_4*x_5*x_6**2*x_7**3 + x_1*x_2**2*x_3**3*x_4*x_5*x_6*x_7**2 + x_1*x_2**2*x_3**2*x_4**2*x_5*x_7 + x_1*x_2**2*x_3**2*x_4**2*x_6*x_7 + x_1*x_2**2*x_3**2*x_5**2*x_6*x_7**3 + x_1*x_2**2*x_3**2*x_5*x_6**2*x_7**3 + x_1*x_2**2*x_3*x_4*x_5**2*x_7**2 + 2*x_1*x_2**2*x_3*x_4*x_5*x_6*x_7**2 + x_1*x_2**2*x_3*x_4*x_6**2*x_7**2 - x_1*x_2*x_3**2*x_4*x_5*x_7 - x_1*x_2*x_3**2*x_4*x_6*x_7 - x_1*x_2*x_3*x_4**2 - x_1*x_2*x_3*x_5**2*x_7**2 - 2*x_1*x_2*x_3*x_5*x_6*x_7**2 - x_1*x_2*x_3*x_6**2*x_7**2 - x_1*x_2*x_4*x_5*x_7 - x_1*x_2*x_4*x_6*x_7 + x_1*x_3*x_4 + x_1*x_5*x_7 + x_1*x_6*x_7 + x_2**3*x_3**2*x_4*x_5*x_6*x_7**2 - x_2**2*x_3**2*x_5*x_6*x_7**2 - x_2**2*x_3*x_4*x_5*x_7 - x_2**2*x_3*x_4*x_6*x_7 + x_2*x_3*x_5*x_7 + x_2*x_3*x_6*x_7 + x_2*x_4"
      ]
     },
     "execution_count": 37,
     "metadata": {},
     "output_type": "execute_result"
    }
   ],
   "source": [
    "temps = (1 - S_2357 * S_2367 * S_24 * S_134 * S_157 * S_167).expand()\n",
    "temps"
   ]
  },
  {
   "cell_type": "code",
   "execution_count": 38,
   "metadata": {},
   "outputs": [
    {
     "data": {
      "text/latex": [
       "$\\displaystyle - 2 x_{1} x_{2} x_{3} x_{4} x_{5} x_{6} x_{7} + 2 x_{1} x_{2} x_{3} x_{4} x_{5} x_{7} + 2 x_{1} x_{2} x_{3} x_{4} x_{6} x_{7} - x_{1} x_{2} x_{3} x_{4} + x_{1} x_{2} x_{3} x_{5} x_{6} x_{7} - x_{1} x_{2} x_{3} x_{5} x_{7} - x_{1} x_{2} x_{3} x_{6} x_{7} + x_{1} x_{2} x_{4} x_{5} x_{6} x_{7} - x_{1} x_{2} x_{4} x_{5} x_{7} - x_{1} x_{2} x_{4} x_{6} x_{7} + x_{1} x_{3} x_{4} x_{5} x_{6} x_{7} - x_{1} x_{3} x_{4} x_{5} x_{7} - x_{1} x_{3} x_{4} x_{6} x_{7} + x_{1} x_{3} x_{4} - x_{1} x_{5} x_{6} x_{7} + x_{1} x_{5} x_{7} + x_{1} x_{6} x_{7} + x_{2} x_{3} x_{4} x_{5} x_{6} x_{7} - x_{2} x_{3} x_{4} x_{5} x_{7} - x_{2} x_{3} x_{4} x_{6} x_{7} - x_{2} x_{3} x_{5} x_{6} x_{7} + x_{2} x_{3} x_{5} x_{7} + x_{2} x_{3} x_{6} x_{7} + x_{2} x_{4}$"
      ],
      "text/plain": [
       "-2*x_1*x_2*x_3*x_4*x_5*x_6*x_7 + 2*x_1*x_2*x_3*x_4*x_5*x_7 + 2*x_1*x_2*x_3*x_4*x_6*x_7 - x_1*x_2*x_3*x_4 + x_1*x_2*x_3*x_5*x_6*x_7 - x_1*x_2*x_3*x_5*x_7 - x_1*x_2*x_3*x_6*x_7 + x_1*x_2*x_4*x_5*x_6*x_7 - x_1*x_2*x_4*x_5*x_7 - x_1*x_2*x_4*x_6*x_7 + x_1*x_3*x_4*x_5*x_6*x_7 - x_1*x_3*x_4*x_5*x_7 - x_1*x_3*x_4*x_6*x_7 + x_1*x_3*x_4 - x_1*x_5*x_6*x_7 + x_1*x_5*x_7 + x_1*x_6*x_7 + x_2*x_3*x_4*x_5*x_6*x_7 - x_2*x_3*x_4*x_5*x_7 - x_2*x_3*x_4*x_6*x_7 - x_2*x_3*x_5*x_6*x_7 + x_2*x_3*x_5*x_7 + x_2*x_3*x_6*x_7 + x_2*x_4"
      ]
     },
     "execution_count": 38,
     "metadata": {},
     "output_type": "execute_result"
    }
   ],
   "source": [
    "for i in range(7):\n",
    "    for j in range(4, 1, -1):\n",
    "        temp = temps.replace(x[i]**j, x[i])\n",
    "        temps = temp\n",
    "temps"
   ]
  },
  {
   "cell_type": "code",
   "execution_count": 39,
   "metadata": {},
   "outputs": [
    {
     "data": {
      "text/latex": [
       "$\\displaystyle 0.683043062558387$"
      ],
      "text/plain": [
       "0.683043062558387"
      ]
     },
     "execution_count": 39,
     "metadata": {},
     "output_type": "execute_result"
    }
   ],
   "source": [
    "temps.subs({x[0]: 1-(1-sp.exp(-0.4*10**(-3)*160*3))**3, \n",
    "            x[1]: 1-(1-sp.exp(-0.4*10**(-3)*140*3)),\n",
    "            x[2]: 1-(1-sp.exp(-0.4*10**(-3)*130*3))**3,\n",
    "            x[3]: 1-(1-sp.exp(-0.4*10**(-3)*(1200+580)*3))**2, \n",
    "            x[4]: 1-(1-sp.exp(-0.4*10**(-3)*(240+500+280)*3))**3, \n",
    "            x[5]: 1-(1-sp.exp(-0.4*10**(-3)*1000*3))**4,\n",
    "            x[6]: (1-(1-sp.exp(-0.4*10**(-3)*130*3))**4)*(1-(1-sp.exp(-0.4*10**(-3)*750*3))**2)})"
   ]
  },
  {
   "cell_type": "markdown",
   "metadata": {},
   "source": [
    "#### *5. Напишите программу, которая вычисляет СФР методами минимальных путей и минимальных сечений для произвольного графа.* ####"
   ]
  },
  {
   "cell_type": "code",
   "execution_count": 40,
   "metadata": {},
   "outputs": [],
   "source": [
    "import sympy as sym\n",
    "import itertools\n",
    "from itertools import combinations"
   ]
  },
  {
   "cell_type": "markdown",
   "metadata": {},
   "source": [
    "А) Сечения\n",
    "\n",
    "Удаляет дубликаты подсписков из списка подсписков"
   ]
  },
  {
   "cell_type": "code",
   "execution_count": 41,
   "metadata": {},
   "outputs": [],
   "source": [
    "def remove_duplicate_sublists(lst):\n",
    "    seen = set()\n",
    "    result = []\n",
    "\n",
    "    for sublist in lst:\n",
    "        sublist_tuple = tuple(sorted(sublist))\n",
    "        if sublist_tuple not in seen:\n",
    "            seen.add(sublist_tuple)\n",
    "            result.append(list(sublist_tuple))\n",
    "\n",
    "    return result"
   ]
  },
  {
   "cell_type": "markdown",
   "metadata": {},
   "source": [
    "Удаляет дубликаты подсписков в списке lst. Преобразует подсписки в кортежи для удобного сравнения и сохраняет только уникальные\n",
    "\n",
    "Проверка корректности разбиения вершин графа на два множества"
   ]
  },
  {
   "cell_type": "code",
   "execution_count": 42,
   "metadata": {},
   "outputs": [],
   "source": [
    "def is_correct(set1,set2,graph,start,end):\n",
    "    for i in set1:\n",
    "        k=0\n",
    "        for j in set1:\n",
    "            if(str(i) in graph[str(j)] or str(j) in graph[str(i)]):\n",
    "                k+=1\n",
    "        if k==0 and len(set1)>1:\n",
    "            return False\n",
    "    for i in set2:\n",
    "        k=0\n",
    "        for j in set2:\n",
    "            if(str(i) in graph[str(j)] or str(j) in graph[str(i)]):\n",
    "                k+=1\n",
    "        if k==0 and len(set2)>1:\n",
    "            return False\n",
    "    if(int(start) in set1 and int(end) not in set2):\n",
    "        return False\n",
    "    if(int(start) in set2 and int(end) not in set1):\n",
    "        return False\n",
    "\n",
    "    return True"
   ]
  },
  {
   "cell_type": "markdown",
   "metadata": {},
   "source": [
    "Проверяет корректность разбиения вершин на два подмножества (set1 и set2). Для каждого элемента проверяется, есть ли связь между элементами внутри одного множества.\n",
    "Также проверяется условие, что начальная вершина (start) и конечная вершина (end) находятся в разных множествах.\n",
    "\n",
    "Алгоритм поиска всех возможных разрезов в графе"
   ]
  },
  {
   "cell_type": "code",
   "execution_count": 43,
   "metadata": {},
   "outputs": [],
   "source": [
    "def find_all_cuts(graph, start, end, path=[]):\n",
    "    list1=[]\n",
    "    list2=[]\n",
    "    for i in range(1,int(end)+1):\n",
    "        list1.append(i)\n",
    "    all_partitions = []\n",
    "    for i in range(1, len(list1)):\n",
    "        partitions = list(combinations(list1, i))\n",
    "        all_partitions.extend(partitions)\n",
    "    for partition in all_partitions:\n",
    "        part1 = list(partition)\n",
    "        part2 = [x for x in list1 if x not in part1]\n",
    "\n",
    "        if(is_correct(part1,part2,graph,start,end)):\n",
    "            list2.append([part1,part2])\n",
    "\n",
    "    cuts=[]\n",
    "    for i in list2:\n",
    "        cut=[]\n",
    "        for j in i[0]:\n",
    "            for k in i[1]:\n",
    "                if(str(k) in graph[str(j)] or str(j) in graph[str(k)]):\n",
    "                    cut.append([str(j),str(k)])\n",
    "        cuts.append(cut)\n",
    "    return cuts"
   ]
  },
  {
   "cell_type": "markdown",
   "metadata": {},
   "source": [
    "Находит все возможные разрезы графа, разделяющие его на два подмножества вершин таким образом, чтобы начальная и конечная вершины находились в разных подмножествах.\n",
    "Для каждого корректного разбиения на два множества ищутся рёбра, пересекающие эти множества (которые и составляют разрез)."
   ]
  },
  {
   "cell_type": "code",
   "execution_count": 44,
   "metadata": {},
   "outputs": [],
   "source": [
    "graph_matrix={}"
   ]
  },
  {
   "cell_type": "code",
   "execution_count": 45,
   "metadata": {},
   "outputs": [
    {
     "name": "stdout",
     "output_type": "stream",
     "text": [
      "{'1 2': 'x1', '1 3': 'x2', '2 3': 'x3', '2 6': 'x4', '3 4': 'x5', '3 5': 'x6', '4 5': 'x7', '5 6': 'x8'}\n",
      "[[['1', '2'], ['1', '3']], [['6', '2'], ['6', '5']], [['1', '3'], ['2', '3'], ['2', '6']], [['1', '2'], ['3', '2'], ['3', '4'], ['3', '5']], [['2', '1'], ['2', '3'], ['6', '5']], [['5', '3'], ['5', '4'], ['6', '2']], [['2', '6'], ['3', '4'], ['3', '5']], [['1', '2'], ['3', '2'], ['3', '5'], ['4', '5']], [['2', '1'], ['2', '3'], ['5', '3'], ['5', '4']], [['4', '3'], ['5', '3'], ['6', '2']], [['2', '6'], ['3', '5'], ['4', '5']], [['1', '2'], ['3', '2'], ['5', '6']], [['2', '1'], ['2', '3'], ['4', '3'], ['5', '3']], [['3', '1'], ['3', '2'], ['6', '2']], [['2', '6'], ['5', '6']], [['2', '1'], ['3', '1']]]\n",
      "[['x1', 'x2'], ['x4', 'x8'], ['x2', 'x3', 'x4'], ['x1', 'x3', 'x5', 'x6'], ['x1', 'x3', 'x8'], ['x4', 'x6', 'x7'], ['x4', 'x5', 'x6'], ['x1', 'x3', 'x6', 'x7']]\n",
      "(-(1 - x1)*(1 - x2) + 1)*(-(1 - x4)*(1 - x8) + 1)*(-(1 - x1)*(1 - x3)*(1 - x8) + 1)*(-(1 - x2)*(1 - x3)*(1 - x4) + 1)*(-(1 - x4)*(1 - x5)*(1 - x6) + 1)*(-(1 - x4)*(1 - x6)*(1 - x7) + 1)*(-(1 - x1)*(1 - x3)*(1 - x5)*(1 - x6) + 1)*(-(1 - x1)*(1 - x3)*(1 - x6)*(1 - x7) + 1)\n",
      "-2*x1*x2*x3*x4*x5*x6*x7*x8 + 2*x1*x2*x3*x4*x5*x7*x8 + 2*x1*x2*x3*x4*x6*x8 - x1*x2*x3*x4 + x1*x2*x3*x5*x6*x7*x8 - x1*x2*x3*x5*x7*x8 - x1*x2*x3*x6*x8 + x1*x2*x4*x5*x6*x7*x8 - x1*x2*x4*x5*x7*x8 - x1*x2*x4*x6*x8 + x1*x3*x4*x5*x6*x7*x8 - x1*x3*x4*x5*x7*x8 - x1*x3*x4*x6*x8 - x1*x3*x5*x6*x7*x8 + x1*x3*x5*x7*x8 + x1*x3*x6*x8 + x1*x4 + x2*x3*x4*x5*x6*x7*x8 - x2*x3*x4*x5*x7*x8 - x2*x3*x4*x6*x8 + x2*x3*x4 - x2*x5*x6*x7*x8 + x2*x5*x7*x8 + x2*x6*x8\n",
      "0.696858847482456\n"
     ]
    }
   ],
   "source": [
    "graph = {\n",
    "    '1': ['2','3'],\n",
    "    '2': ['3','6'],\n",
    "    '3': ['2', '4','5'],\n",
    "    '4': ['5'],\n",
    "    '5': ['6'],\n",
    "    '6': []\n",
    "}\n",
    "weights=dict()\n",
    "k=1;\n",
    "for i in graph.items():\n",
    "    for j in i[1]:\n",
    "        if(weights.get(str(j)+' '+str(i[0]))==None):\n",
    "            weights[str(i[0])+' '+str(j)]='x'+str(k)\n",
    "            k+=1\n",
    "print(weights)\n",
    "start_node = '1'\n",
    "end_node = '6'\n",
    "paths=find_all_cuts(graph, start_node, end_node)\n",
    "print(paths)\n",
    "min_paths=[]\n",
    "for i in paths:\n",
    "    min_path=[]\n",
    "    for j in i:\n",
    "        if(weights.get(j[0]+' '+j[1])!=None):\n",
    "            min_path.append(weights[j[0]+' '+j[1]])\n",
    "        else:\n",
    "            min_path.append(weights[j[1] + ' ' + j[0]])\n",
    "    min_paths.append(min_path)\n",
    "min_cuts = remove_duplicate_sublists(min_paths)\n",
    "print(min_cuts)\n",
    "S=1\n",
    "\n",
    "\n",
    "for i in min_cuts:\n",
    "    prod=1\n",
    "    for j in i:\n",
    "        prod*=1-sym.Symbol(j)\n",
    "    prod=1-prod\n",
    "    S*=prod\n",
    "\n",
    "print(S)\n",
    "S=sym.expand(S)\n",
    "\n",
    "for k in range(10):\n",
    "    for i in range(len(min_cuts)):\n",
    "        for j in range(len(weights.items())):\n",
    "            S = S.subs(sym.Symbol('x'+str(j+1))**(i+1), sym.Symbol('x'+str(j+1)))\n",
    "print(S)\n",
    "p=[0.845354,0.994669,0.996987,0.222299,0.98433,0.761534,0.775459,0.647558]\n",
    "for i in range(1,len(weights.items())+1):\n",
    "    S = S.subs(sym.Symbol('x' + str(i)), p[i-1])\n",
    "print(S)"
   ]
  },
  {
   "cell_type": "markdown",
   "metadata": {},
   "source": [
    "Б) Пути\n",
    "\n",
    "Рекурсивная функцию, которая находит все возможные пути в графе от стартовой вершины до конечной вершины"
   ]
  },
  {
   "cell_type": "code",
   "execution_count": 46,
   "metadata": {},
   "outputs": [],
   "source": [
    "def find_all_paths(graph, start, end, path=[]):\n",
    "    path = path + [start]\n",
    "    if start == end:\n",
    "        return [path]\n",
    "    if start not in graph:\n",
    "        return []\n",
    "    paths = []\n",
    "    for node in graph[start]:\n",
    "        if node not in path:\n",
    "            new_paths = find_all_paths(graph, node, end, path)\n",
    "            for new_path in new_paths:\n",
    "                paths.append(new_path)\n",
    "    return paths"
   ]
  },
  {
   "cell_type": "markdown",
   "metadata": {},
   "source": [
    "Эта рекурсивная функция находит все возможные пути из вершины start в вершину end в графе.\n",
    "Она собирает все пути, проходя по графу в глубину (аналог поиска в глубину), избегая повторного посещения узлов в одном пути, чтобы избежать циклов."
   ]
  },
  {
   "cell_type": "code",
   "execution_count": 47,
   "metadata": {},
   "outputs": [
    {
     "name": "stdout",
     "output_type": "stream",
     "text": [
      "{'1 2': 'x1', '1 3': 'x2', '2 3': 'x3', '2 6': 'x4', '3 4': 'x5', '3 5': 'x6', '4 5': 'x7', '5 6': 'x8'}\n",
      "[['1', '2', '3', '4', '5', '6'], ['1', '2', '3', '5', '6'], ['1', '2', '6'], ['1', '3', '2', '6'], ['1', '3', '4', '5', '6'], ['1', '3', '5', '6']]\n",
      "[['x1', 'x3', 'x5', 'x7', 'x8'], ['x1', 'x3', 'x6', 'x8'], ['x1', 'x4'], ['x2', 'x3', 'x4'], ['x2', 'x5', 'x7', 'x8'], ['x2', 'x6', 'x8']]\n",
      "-(-x1*x4 + 1)*(-x2*x3*x4 + 1)*(-x2*x6*x8 + 1)*(-x1*x3*x6*x8 + 1)*(-x2*x5*x7*x8 + 1)*(-x1*x3*x5*x7*x8 + 1) + 1\n",
      "-x1**3*x2**3*x3**3*x4**2*x5**2*x6**2*x7**2*x8**4 + x1**3*x2**2*x3**3*x4**2*x5**2*x6*x7**2*x8**3 + x1**3*x2**2*x3**3*x4**2*x5*x6**2*x7*x8**3 + x1**3*x2**2*x3**2*x4*x5**2*x6**2*x7**2*x8**4 - x1**3*x2*x3**3*x4**2*x5*x6*x7*x8**2 - x1**3*x2*x3**2*x4*x5**2*x6*x7**2*x8**3 - x1**3*x2*x3**2*x4*x5*x6**2*x7*x8**3 + x1**3*x3**2*x4*x5*x6*x7*x8**2 + x1**2*x2**3*x3**3*x4*x5**2*x6**2*x7**2*x8**4 + x1**2*x2**3*x3**2*x4**2*x5**2*x6*x7**2*x8**3 + x1**2*x2**3*x3**2*x4**2*x5*x6**2*x7*x8**3 - x1**2*x2**2*x3**3*x4*x5**2*x6*x7**2*x8**3 - x1**2*x2**2*x3**3*x4*x5*x6**2*x7*x8**3 - x1**2*x2**2*x3**2*x4**2*x5**2*x7**2*x8**2 - 2*x1**2*x2**2*x3**2*x4**2*x5*x6*x7*x8**2 - x1**2*x2**2*x3**2*x4**2*x6**2*x8**2 - x1**2*x2**2*x3**2*x5**2*x6**2*x7**2*x8**4 - x1**2*x2**2*x3*x4*x5**2*x6*x7**2*x8**3 - x1**2*x2**2*x3*x4*x5*x6**2*x7*x8**3 + x1**2*x2*x3**3*x4*x5*x6*x7*x8**2 + x1**2*x2*x3**2*x4**2*x5*x7*x8 + x1**2*x2*x3**2*x4**2*x6*x8 + x1**2*x2*x3**2*x5**2*x6*x7**2*x8**3 + x1**2*x2*x3**2*x5*x6**2*x7*x8**3 + x1**2*x2*x3*x4*x5**2*x7**2*x8**2 + 2*x1**2*x2*x3*x4*x5*x6*x7*x8**2 + x1**2*x2*x3*x4*x6**2*x8**2 - x1**2*x3**2*x5*x6*x7*x8**2 - x1**2*x3*x4*x5*x7*x8 - x1**2*x3*x4*x6*x8 - x1*x2**3*x3**2*x4*x5**2*x6*x7**2*x8**3 - x1*x2**3*x3**2*x4*x5*x6**2*x7*x8**3 - x1*x2**3*x3*x4**2*x5*x6*x7*x8**2 + x1*x2**2*x3**2*x4*x5**2*x7**2*x8**2 + 2*x1*x2**2*x3**2*x4*x5*x6*x7*x8**2 + x1*x2**2*x3**2*x4*x6**2*x8**2 + x1*x2**2*x3*x4**2*x5*x7*x8 + x1*x2**2*x3*x4**2*x6*x8 + x1*x2**2*x3*x5**2*x6*x7**2*x8**3 + x1*x2**2*x3*x5*x6**2*x7*x8**3 + x1*x2**2*x4*x5*x6*x7*x8**2 - x1*x2*x3**2*x4*x5*x7*x8 - x1*x2*x3**2*x4*x6*x8 - x1*x2*x3*x4**2 - x1*x2*x3*x5**2*x7**2*x8**2 - 2*x1*x2*x3*x5*x6*x7*x8**2 - x1*x2*x3*x6**2*x8**2 - x1*x2*x4*x5*x7*x8 - x1*x2*x4*x6*x8 + x1*x3*x5*x7*x8 + x1*x3*x6*x8 + x1*x4 + x2**3*x3*x4*x5*x6*x7*x8**2 - x2**2*x3*x4*x5*x7*x8 - x2**2*x3*x4*x6*x8 - x2**2*x5*x6*x7*x8**2 + x2*x3*x4 + x2*x5*x7*x8 + x2*x6*x8\n",
      "-2*x1*x2*x3*x4*x5*x6*x7*x8 + 2*x1*x2*x3*x4*x5*x7*x8 + 2*x1*x2*x3*x4*x6*x8 - x1*x2*x3*x4 + x1*x2*x3*x5*x6*x7*x8 - x1*x2*x3*x5*x7*x8 - x1*x2*x3*x6*x8 + x1*x2*x4*x5*x6*x7*x8 - x1*x2*x4*x5*x7*x8 - x1*x2*x4*x6*x8 + x1*x3*x4*x5*x6*x7*x8 - x1*x3*x4*x5*x7*x8 - x1*x3*x4*x6*x8 - x1*x3*x5*x6*x7*x8 + x1*x3*x5*x7*x8 + x1*x3*x6*x8 + x1*x4 + x2*x3*x4*x5*x6*x7*x8 - x2*x3*x4*x5*x7*x8 - x2*x3*x4*x6*x8 + x2*x3*x4 - x2*x5*x6*x7*x8 + x2*x5*x7*x8 + x2*x6*x8\n",
      "0.696858847482456\n"
     ]
    }
   ],
   "source": [
    "graph_matrix={}\n",
    "\n",
    "graph = {\n",
    "    '1': ['2','3'],\n",
    "    '2': ['3','6'],\n",
    "    '3': ['2', '4','5'],\n",
    "    '4': ['5'],\n",
    "    '5': ['6'],\n",
    "    '6': []\n",
    "}\n",
    "weights=dict()\n",
    "k=1;\n",
    "for i in graph.items():\n",
    "\n",
    "    for j in i[1]:\n",
    "        if(weights.get(str(j)+' '+str(i[0]))==None):\n",
    "            weights[str(i[0])+' '+str(j)]='x'+str(k)\n",
    "            k+=1\n",
    "print(weights)\n",
    "start_node = '1'\n",
    "end_node = '6'\n",
    "paths=find_all_paths(graph, start_node, end_node)\n",
    "print(paths)\n",
    "min_paths=[]\n",
    "for i in paths:\n",
    "    min_path=[]\n",
    "    for j in range(len(i)-1):\n",
    "        if(weights.get(i[j]+' '+i[j+1])!=None):\n",
    "            min_path.append(weights[i[j]+' '+i[j+1]])\n",
    "        else:\n",
    "            min_path.append(weights[i[j+1] + ' ' + i[j]])\n",
    "    min_paths.append(min_path)\n",
    "print(min_paths)\n",
    "S=1;\n",
    "for i in min_paths:\n",
    "    prod=1\n",
    "    for j in i:\n",
    "        prod*=sym.Symbol(j)\n",
    "    prod=1-prod\n",
    "    S*=prod\n",
    "S=1-S\n",
    "print(S)\n",
    "S=sym.expand(S)\n",
    "print(S)\n",
    "for k in range(10):\n",
    "    for i in range(len(min_paths)):\n",
    "        for j in range(len(weights.items())):\n",
    "            S = S.subs(sym.Symbol('x'+str(j+1))**(i+1), sym.Symbol('x'+str(j+1)))\n",
    "print(S)\n",
    "p=[0.845354,0.994669,0.996987,0.222299,0.98433,0.761534,0.775459,0.647558]\n",
    "\n",
    "for i in range(1,len(weights.items())+1):\n",
    "    S = S.subs(sym.Symbol('x' + str(i)), p[i-1])\n",
    "print(S)"
   ]
  }
 ],
 "metadata": {
  "kernelspec": {
   "display_name": "Python 3",
   "language": "python",
   "name": "python3"
  },
  "language_info": {
   "codemirror_mode": {
    "name": "ipython",
    "version": 3
   },
   "file_extension": ".py",
   "mimetype": "text/x-python",
   "name": "python",
   "nbconvert_exporter": "python",
   "pygments_lexer": "ipython3",
   "version": "3.12.8"
  }
 },
 "nbformat": 4,
 "nbformat_minor": 2
}
